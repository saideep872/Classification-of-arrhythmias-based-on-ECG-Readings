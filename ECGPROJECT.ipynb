{
  "cells": [
    {
      "cell_type": "code",
      "execution_count": null,
      "metadata": {
        "id": "n-RoTO4g8PMD"
      },
      "outputs": [],
      "source": [
        "\n",
        "import math\n",
        "import random\n",
        "import pickle\n",
        "import itertools\n",
        "\n",
        "import numpy as np \n",
        "import pandas as pd \n",
        "\n",
        "from sklearn.metrics import accuracy_score, classification_report, confusion_matrix, label_ranking_average_precision_score, label_ranking_loss, coverage_error \n",
        "\n",
        "from sklearn.utils import shuffle\n",
        "\n",
        "from scipy.signal import resample\n",
        "\n",
        "import matplotlib.pyplot as plt\n",
        "\n",
        "\n",
        "np.random.seed(32)\n",
        "\n"
      ]
    },
    {
      "cell_type": "code",
      "execution_count": null,
      "metadata": {
        "id": "Qq0_96fj8PWI"
      },
      "outputs": [],
      "source": [
        "df = pd.read_csv(\"/content/drive/MyDrive/ML_project/mitbih_train.csv\", header=None)\n",
        "df2 = pd.read_csv(\"/content/drive/MyDrive/ML_project/mitbih_test.csv\", header=None)\n",
        "df = pd.concat([df, df2], axis=0)"
      ]
    },
    {
      "cell_type": "code",
      "source": [],
      "metadata": {
        "id": "BMx_ZBfixoiY"
      },
      "execution_count": null,
      "outputs": []
    },
    {
      "cell_type": "code",
      "execution_count": null,
      "metadata": {
        "colab": {
          "base_uri": "https://localhost:8080/"
        },
        "id": "tN02Q68Z4zHV",
        "outputId": "8ed4e069-e74a-48fd-f9d8-6dfa01b842ac"
      },
      "outputs": [
        {
          "output_type": "stream",
          "name": "stdout",
          "text": [
            "0.0    90589\n",
            "4.0     8039\n",
            "2.0     7236\n",
            "1.0     2779\n",
            "3.0      803\n",
            "Name: 187, dtype: int64\n"
          ]
        }
      ],
      "source": [
        "print(df[187].value_counts())"
      ]
    },
    {
      "cell_type": "code",
      "execution_count": null,
      "metadata": {
        "colab": {
          "base_uri": "https://localhost:8080/"
        },
        "id": "X7C2lco3nRow",
        "outputId": "8c06afef-41a4-4650-b94d-c9912d67ea19"
      },
      "outputs": [
        {
          "output_type": "execute_result",
          "data": {
            "text/plain": [
              "(109446, 188)"
            ]
          },
          "metadata": {},
          "execution_count": 4
        }
      ],
      "source": [
        "df.shape"
      ]
    },
    {
      "cell_type": "code",
      "execution_count": null,
      "metadata": {
        "id": "3rowQFjO-juH"
      },
      "outputs": [],
      "source": [
        "T = df.values\n",
        "X1 = T[:, :-1]\n",
        "y1 = T[:, -1].astype(int)"
      ]
    },
    {
      "cell_type": "code",
      "source": [
        "from imblearn.over_sampling import SMOTE\n",
        "sm = SMOTE(random_state=42)\n",
        "X, y = sm.fit_resample(X1, y1)"
      ],
      "metadata": {
        "id": "CpjIEnomx9Ij"
      },
      "execution_count": null,
      "outputs": []
    },
    {
      "cell_type": "code",
      "source": [
        "X.shape"
      ],
      "metadata": {
        "colab": {
          "base_uri": "https://localhost:8080/"
        },
        "id": "MWE3aeF1811n",
        "outputId": "19ad634a-6503-40c0-9f02-5e5789ecc6f3"
      },
      "execution_count": null,
      "outputs": [
        {
          "output_type": "execute_result",
          "data": {
            "text/plain": [
              "(452945, 187)"
            ]
          },
          "metadata": {},
          "execution_count": 12
        }
      ]
    },
    {
      "cell_type": "code",
      "source": [
        "y.shape"
      ],
      "metadata": {
        "colab": {
          "base_uri": "https://localhost:8080/"
        },
        "id": "oGOb_p979Ajs",
        "outputId": "3c45fe63-bb95-460d-9d8f-a01fbfb9d27f"
      },
      "execution_count": null,
      "outputs": [
        {
          "output_type": "execute_result",
          "data": {
            "text/plain": [
              "(452945,)"
            ]
          },
          "metadata": {},
          "execution_count": 13
        }
      ]
    },
    {
      "cell_type": "code",
      "source": [
        "from sklearn.model_selection import train_test_split\n",
        "X_train, X_test, y_train, y_test = train_test_split(X, y, test_size=0.8, random_state=42)"
      ],
      "metadata": {
        "id": "qFTtWsLxcYjW"
      },
      "execution_count": null,
      "outputs": []
    },
    {
      "cell_type": "code",
      "source": [
        "np.unique(y,return_counts=True)"
      ],
      "metadata": {
        "colab": {
          "base_uri": "https://localhost:8080/"
        },
        "id": "vq12cSph0hnL",
        "outputId": "7810069a-e638-414e-9fa3-59a07084fe6b"
      },
      "execution_count": null,
      "outputs": [
        {
          "output_type": "execute_result",
          "data": {
            "text/plain": [
              "(array([0, 1, 2, 3, 4]), array([90589, 90589, 90589, 90589, 90589]))"
            ]
          },
          "metadata": {},
          "execution_count": 15
        }
      ]
    },
    {
      "cell_type": "code",
      "source": [
        "X.shape"
      ],
      "metadata": {
        "colab": {
          "base_uri": "https://localhost:8080/"
        },
        "id": "KGqGUQxoykcH",
        "outputId": "7904507f-804c-4f9a-d078-781b1d81861e"
      },
      "execution_count": null,
      "outputs": [
        {
          "output_type": "execute_result",
          "data": {
            "text/plain": [
              "(452945, 187)"
            ]
          },
          "metadata": {},
          "execution_count": 16
        }
      ]
    },
    {
      "cell_type": "code",
      "execution_count": null,
      "metadata": {
        "colab": {
          "base_uri": "https://localhost:8080/"
        },
        "id": "jiueaYf_Oya1",
        "outputId": "908357c6-f1c9-400f-8dea-dc751eae08e5"
      },
      "outputs": [
        {
          "output_type": "execute_result",
          "data": {
            "text/plain": [
              "(109446, 188)"
            ]
          },
          "metadata": {},
          "execution_count": 17
        }
      ],
      "source": [
        "T.shape"
      ]
    },
    {
      "cell_type": "code",
      "execution_count": null,
      "metadata": {
        "colab": {
          "base_uri": "https://localhost:8080/"
        },
        "id": "T7kE2UziPK0b",
        "outputId": "f6d5dbba-1e4f-47bb-93cf-8ec38836e512"
      },
      "outputs": [
        {
          "output_type": "execute_result",
          "data": {
            "text/plain": [
              "(452945, 187)"
            ]
          },
          "metadata": {},
          "execution_count": 18
        }
      ],
      "source": [
        "X.shape"
      ]
    },
    {
      "cell_type": "code",
      "execution_count": null,
      "metadata": {
        "id": "6BAQ_SzY-qcu"
      },
      "outputs": [],
      "source": [
        "del df\n",
        "del df2\n",
        "del T"
      ]
    },
    {
      "cell_type": "code",
      "execution_count": null,
      "metadata": {
        "id": "F9W4Z6EDOd2B"
      },
      "outputs": [],
      "source": []
    },
    {
      "cell_type": "code",
      "execution_count": null,
      "metadata": {
        "colab": {
          "base_uri": "https://localhost:8080/"
        },
        "id": "Q7jHEeP3UbOr",
        "outputId": "19def083-1937-4a3b-b901-aeef2d96b283"
      },
      "outputs": [
        {
          "output_type": "execute_result",
          "data": {
            "text/plain": [
              "(362356,)"
            ]
          },
          "metadata": {},
          "execution_count": 9
        }
      ],
      "source": [
        "X_test.shape\n",
        "y_test.shape"
      ]
    },
    {
      "cell_type": "code",
      "execution_count": null,
      "metadata": {
        "id": "OHNxQNNX_WZJ"
      },
      "outputs": [],
      "source": [
        "X_train = np.expand_dims(X_train, 2)\n",
        "X_test = np.expand_dims(X_test, 2)"
      ]
    },
    {
      "cell_type": "code",
      "execution_count": null,
      "metadata": {
        "colab": {
          "base_uri": "https://localhost:8080/"
        },
        "id": "zncJDwN9VBQ_",
        "outputId": "f61a07f7-f01c-4ad6-d84e-94c559ac1528"
      },
      "outputs": [
        {
          "output_type": "execute_result",
          "data": {
            "text/plain": [
              "(362356, 187, 1)"
            ]
          },
          "metadata": {},
          "execution_count": 22
        }
      ],
      "source": [
        "X_test.shape"
      ]
    },
    {
      "cell_type": "code",
      "execution_count": null,
      "metadata": {
        "colab": {
          "base_uri": "https://localhost:8080/"
        },
        "id": "XoJp0DWu2oRo",
        "outputId": "5ead1bc1-3a51-48dd-8652-e503f4306ae3"
      },
      "outputs": [
        {
          "output_type": "execute_result",
          "data": {
            "text/plain": [
              "(90589, 187, 1)"
            ]
          },
          "metadata": {},
          "execution_count": 23
        }
      ],
      "source": [
        "X_train.shape"
      ]
    },
    {
      "cell_type": "code",
      "source": [
        "y_train.shape"
      ],
      "metadata": {
        "colab": {
          "base_uri": "https://localhost:8080/"
        },
        "id": "ksyg357ozdfZ",
        "outputId": "03320472-c42e-46a5-e3a3-9bbc6f4cd048"
      },
      "execution_count": null,
      "outputs": [
        {
          "output_type": "execute_result",
          "data": {
            "text/plain": [
              "(90589,)"
            ]
          },
          "metadata": {},
          "execution_count": 24
        }
      ]
    },
    {
      "cell_type": "code",
      "execution_count": null,
      "metadata": {
        "colab": {
          "base_uri": "https://localhost:8080/"
        },
        "id": "g5XQJVGblWct",
        "outputId": "d73fd067-094a-4ade-fe8b-701c7ad07b89"
      },
      "outputs": [
        {
          "output_type": "execute_result",
          "data": {
            "text/plain": [
              "array([2, 3, 4, ..., 1, 1, 1])"
            ]
          },
          "metadata": {},
          "execution_count": 25
        }
      ],
      "source": [
        "y_train"
      ]
    },
    {
      "cell_type": "code",
      "execution_count": null,
      "metadata": {
        "id": "xC5NO2EbWA-P"
      },
      "outputs": [],
      "source": []
    },
    {
      "cell_type": "code",
      "execution_count": null,
      "metadata": {
        "colab": {
          "base_uri": "https://localhost:8080/"
        },
        "id": "HdxkhKQU_j77",
        "outputId": "c750e2b0-06b4-4d29-ad0e-7900f7568f97"
      },
      "outputs": [
        {
          "output_type": "stream",
          "name": "stdout",
          "text": [
            "X_train (90589, 187, 1)\n",
            "y_train (90589,)\n",
            "X_test (362356, 187, 1)\n",
            "y_test (362356,)\n"
          ]
        }
      ],
      "source": [
        "print(\"X_train\", X_train.shape)\n",
        "print(\"y_train\", y_train.shape)\n",
        "print(\"X_test\", X_test.shape)\n",
        "print(\"y_test\", y_test.shape)"
      ]
    },
    {
      "cell_type": "code",
      "execution_count": null,
      "metadata": {
        "colab": {
          "base_uri": "https://localhost:8080/"
        },
        "id": "S0PXZRsemfC7",
        "outputId": "da995966-3768-42d5-e409-db6df8266b82"
      },
      "outputs": [
        {
          "output_type": "execute_result",
          "data": {
            "text/plain": [
              "(90589, 187, 1)"
            ]
          },
          "metadata": {},
          "execution_count": 22
        }
      ],
      "source": [
        "X_train.shape"
      ]
    },
    {
      "cell_type": "code",
      "execution_count": null,
      "metadata": {
        "id": "LCqJSp7KrKuE"
      },
      "outputs": [],
      "source": []
    },
    {
      "cell_type": "code",
      "source": [
        "X_test.shape"
      ],
      "metadata": {
        "colab": {
          "base_uri": "https://localhost:8080/"
        },
        "id": "pbrCR2ZYz7XO",
        "outputId": "ac5a15b1-07d5-4ff4-854d-55db6c2f14e0"
      },
      "execution_count": null,
      "outputs": [
        {
          "output_type": "execute_result",
          "data": {
            "text/plain": [
              "(362356, 187, 1)"
            ]
          },
          "metadata": {},
          "execution_count": 23
        }
      ]
    },
    {
      "cell_type": "code",
      "source": [
        "y_test.shape"
      ],
      "metadata": {
        "colab": {
          "base_uri": "https://localhost:8080/"
        },
        "id": "t-S8pbt90ALt",
        "outputId": "a4a3ec2b-0b36-439e-b25d-334b25df7a4e"
      },
      "execution_count": null,
      "outputs": [
        {
          "output_type": "execute_result",
          "data": {
            "text/plain": [
              "(362356,)"
            ]
          },
          "metadata": {},
          "execution_count": 24
        }
      ]
    },
    {
      "cell_type": "code",
      "execution_count": null,
      "metadata": {
        "id": "HKb27OP8A1Ga"
      },
      "outputs": [],
      "source": [
        "X_train = X_train.reshape(X_train.shape[0], 187*1)\n",
        "X_test = X_test.reshape(X_test.shape[0],187*1)\n",
        "X_train1 = pd.DataFrame(X_train)\n",
        "y_test1= pd.DataFrame(y_test)\n"
      ]
    },
    {
      "cell_type": "code",
      "execution_count": null,
      "metadata": {
        "colab": {
          "base_uri": "https://localhost:8080/"
        },
        "id": "xdjXCmf3jeBX",
        "outputId": "359f0dbd-d448-4534-c3c0-e8d0b54e8dfc"
      },
      "outputs": [
        {
          "output_type": "execute_result",
          "data": {
            "text/plain": [
              "0.9890742805417876"
            ]
          },
          "metadata": {},
          "execution_count": 26
        }
      ],
      "source": [
        "\n",
        "from sklearn.ensemble import RandomForestClassifier\n",
        "clf = RandomForestClassifier(n_estimators = 1000, criterion = 'entropy', random_state = 42,max_depth=32)\n",
        "clf.fit(X_train1, y_train)\n",
        "y_pred = clf.predict(X_test)\n",
        "accuracy_score(y_test1, y_pred)"
      ]
    },
    {
      "cell_type": "code",
      "source": [
        "import pandas as pd\n",
        "\n",
        "from sklearn.ensemble import RandomForestClassifier\n",
        "\n",
        "from sklearn.model_selection import train_test_split\n",
        "\n",
        "from sklearn.model_selection import GridSearchCV\n",
        "\n",
        "from sklearn import metrics\n",
        "\n",
        "import warnings\n",
        "\n",
        "warnings.filterwarnings('ignore')\n",
        "rfc = RandomForestClassifier(n_estimators = 1000, criterion = 'entropy')\n",
        "\n",
        "forest_params = [{'max_depth':[10,20,30,40,50],}]\n",
        "\n",
        "clf = GridSearchCV(rfc, forest_params, cv = 10, scoring='accuracy')\n",
        "\n",
        "clf.fit(X_train1, y_train)\n",
        "\n",
        "print(clf.best_params_)\n",
        "\n",
        "print(clf.best_score_)\n",
        "y_pred = clf.predict(X_test)\n",
        "accuracy_score(y_test1, y_pred)"
      ],
      "metadata": {
        "id": "3KOxG8IuBoc6"
      },
      "execution_count": null,
      "outputs": []
    },
    {
      "cell_type": "code",
      "source": [],
      "metadata": {
        "id": "5QUwPiz61OY5"
      },
      "execution_count": null,
      "outputs": []
    },
    {
      "cell_type": "code",
      "source": [
        "from sklearn.metrics import roc_curve, auc"
      ],
      "metadata": {
        "id": "ppQ8yuUx1xnt"
      },
      "execution_count": null,
      "outputs": []
    },
    {
      "cell_type": "code",
      "source": [
        "from matplotlib.legend_handler import HandlerLine2D"
      ],
      "metadata": {
        "id": "s9uIbIcT7h0B"
      },
      "execution_count": null,
      "outputs": []
    },
    {
      "cell_type": "code",
      "execution_count": null,
      "metadata": {
        "id": "tCBqNIRUudvc",
        "colab": {
          "base_uri": "https://localhost:8080/",
          "height": 53
        },
        "outputId": "a85e2a76-9584-408c-b1d0-1fe2f293110c"
      },
      "outputs": [
        {
          "output_type": "execute_result",
          "data": {
            "text/plain": [
              "'svc.fit(X_train1, y_train)\\ny_pred = svc.predict(X_test)\\nfrom sklearn.metrics import classification_report, confusion_matrix\\nprint(confusion_matrix(y_test1,y_pred))\\nprint(classification_report(y_test1,y_pred))'"
            ],
            "application/vnd.google.colaboratory.intrinsic+json": {
              "type": "string"
            }
          },
          "metadata": {},
          "execution_count": 27
        }
      ],
      "source": [
        "from sklearn.svm import SVC\n",
        "svc = SVC(kernel='linear')\n",
        "svc.fit(X_train1, y_train)\n",
        "y_pred = svc.predict(X_test)\n",
        "from sklearn.metrics import classification_report, confusion_matrix\n",
        "print(confusion_matrix(y_test1,y_pred))\n",
        "print(classification_report(y_test1,y_pred))"
      ]
    },
    {
      "cell_type": "code",
      "source": [
        "from sklearn.linear_model import LogisticRegression"
      ],
      "metadata": {
        "id": "dBaWDd2nwBjw"
      },
      "execution_count": null,
      "outputs": []
    },
    {
      "cell_type": "code",
      "source": [
        "lgr = LogisticRegression()"
      ],
      "metadata": {
        "id": "pA0hLGgbwDB_"
      },
      "execution_count": null,
      "outputs": []
    },
    {
      "cell_type": "code",
      "source": [
        "from sklearn.ensemble import VotingClassifier\n",
        "ensemble=VotingClassifier(estimators=[('rfc', clf), ('svm', svc),('lr',lgr)], voting='hard', n_jobs=-1).fit(X_train1, y_train)\n",
        "print('The accuracy for Random Forest and SVM is:',ensemble.score(X_test,y_test1))"
      ],
      "metadata": {
        "colab": {
          "base_uri": "https://localhost:8080/",
          "height": 53
        },
        "id": "tLWp_cZ8k5kb",
        "outputId": "436921e7-5dcb-4df6-a22f-b1f37a67baf8"
      },
      "execution_count": null,
      "outputs": [
        {
          "output_type": "execute_result",
          "data": {
            "text/plain": [
              "\"from sklearn.ensemble import VotingClassifier\\nensemble=VotingClassifier(estimators=[('rfc', clf), ('svm', svc),('lr',lgr)], voting='hard', n_jobs=-1).fit(X_train1, y_train)\\nprint('The accuracy for Random Forest and SVM is:',ensemble.score(X_test,y_test1))\""
            ],
            "application/vnd.google.colaboratory.intrinsic+json": {
              "type": "string"
            }
          },
          "metadata": {},
          "execution_count": 30
        }
      ]
    },
    {
      "cell_type": "code",
      "source": [
        "y_test_predict = ensemble.predict(X_test)"
      ],
      "metadata": {
        "id": "qOc4x_LNraJ4"
      },
      "execution_count": null,
      "outputs": []
    },
    {
      "cell_type": "code",
      "source": [
        "accuracy = accuracy_score(y_test1, y_test_predict) * 100\n",
        "print(classification_report(y_test1, y_test_predict, zero_division=0, digits=4))\n",
        "print(\"Accuracy: \", round(accuracy,2), '%')\n"
      ],
      "metadata": {
        "colab": {
          "base_uri": "https://localhost:8080/",
          "height": 53
        },
        "id": "ssTqMGfrrkxI",
        "outputId": "6ae01392-7c87-479a-8581-531f8053e04a"
      },
      "execution_count": null,
      "outputs": [
        {
          "output_type": "execute_result",
          "data": {
            "text/plain": [
              "'accuracy = accuracy_score(y_test1, y_test_predict) * 100\\nprint(classification_report(y_test1, y_test_predict, zero_division=0, digits=4))\\nprint(\"Accuracy: \", round(accuracy,2), \\'%\\')'"
            ],
            "application/vnd.google.colaboratory.intrinsic+json": {
              "type": "string"
            }
          },
          "metadata": {},
          "execution_count": 32
        }
      ]
    }
  ],
  "metadata": {
    "colab": {
      "collapsed_sections": [],
      "provenance": []
    },
    "kernelspec": {
      "display_name": "Python 3",
      "name": "python3"
    },
    "language_info": {
      "name": "python"
    }
  },
  "nbformat": 4,
  "nbformat_minor": 0
}